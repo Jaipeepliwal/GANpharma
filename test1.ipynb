{
 "cells": [
  {
   "cell_type": "code",
   "id": "6e66dc99bf7e323a",
   "metadata": {
    "ExecuteTime": {
     "end_time": "2025-02-09T06:24:56.056264Z",
     "start_time": "2025-02-09T06:24:56.050559Z"
    }
   },
   "source": [
    "import pandas as pd\n",
    "from sklearn.preprocessing import LabelEncoder, MinMaxScaler\n",
    "from ctgan import CTGAN"
   ],
   "outputs": [],
   "execution_count": 94
  },
  {
   "cell_type": "code",
   "id": "d8c1476fccec9809",
   "metadata": {
    "ExecuteTime": {
     "end_time": "2025-02-09T05:19:43.928863Z",
     "start_time": "2025-02-09T05:19:43.922321Z"
    }
   },
   "source": [
    "df = pd.read_csv(\"hospital.csv\")"
   ],
   "outputs": [],
   "execution_count": 15
  },
  {
   "cell_type": "code",
   "id": "c6c5bd847c09db70",
   "metadata": {
    "ExecuteTime": {
     "end_time": "2025-02-09T05:19:44.445446Z",
     "start_time": "2025-02-09T05:19:44.435052Z"
    }
   },
   "source": [
    "df.head()"
   ],
   "outputs": [
    {
     "data": {
      "text/plain": [
       "  Country Name                                      Hospital Name  \\\n",
       "0    Argentina              The Hospital Italiano de Buenos Aires   \n",
       "1    Argentina                                    Hospital Alemán   \n",
       "2    Australia                          Royal Children's Hospital   \n",
       "3    Australia                     Baker Heart Research Institute   \n",
       "4    Australia  Department Health & Human Services of Tasmania...   \n",
       "\n",
       "   Total No. of Patients  Cardiovascular  Cancer  \\\n",
       "0                  41324            3955    4642   \n",
       "1                  32542            1256    1981   \n",
       "2                  30337            2496    3527   \n",
       "3                  33212            2855    4299   \n",
       "4                  45093            4932    4931   \n",
       "\n",
       "   Endocrinology and metabolic diseases  Neurological diseases  \\\n",
       "0                                  4611                   3231   \n",
       "1                                  2315                   3531   \n",
       "2                                  2006                   2386   \n",
       "3                                  3309                   1444   \n",
       "4                                  3526                   2737   \n",
       "\n",
       "   Mental health and behavioral disorders  Infectious diseases  Dermatology  \\\n",
       "0                                    3631                 1587         3207   \n",
       "1                                    3997                 4566         2423   \n",
       "2                                    2929                 2540         3527   \n",
       "3                                    2085                 4740         2918   \n",
       "4                                    1285                 4733         4811   \n",
       "\n",
       "   Gastroenterology  Hematology and coagulation  Renal disease  Rheumatology  \\\n",
       "0              3386                        4286           3710          1202   \n",
       "1              1024                        3113           2278          3111   \n",
       "2              3847                        1095           3140          1409   \n",
       "3              1283                        3031           1235          2074   \n",
       "4              4631                        2825           3319          4580   \n",
       "\n",
       "   Urologic  \n",
       "0      3876  \n",
       "1      2947  \n",
       "2      1435  \n",
       "3      3939  \n",
       "4      2783  "
      ],
      "text/html": [
       "<div>\n",
       "<style scoped>\n",
       "    .dataframe tbody tr th:only-of-type {\n",
       "        vertical-align: middle;\n",
       "    }\n",
       "\n",
       "    .dataframe tbody tr th {\n",
       "        vertical-align: top;\n",
       "    }\n",
       "\n",
       "    .dataframe thead th {\n",
       "        text-align: right;\n",
       "    }\n",
       "</style>\n",
       "<table border=\"1\" class=\"dataframe\">\n",
       "  <thead>\n",
       "    <tr style=\"text-align: right;\">\n",
       "      <th></th>\n",
       "      <th>Country Name</th>\n",
       "      <th>Hospital Name</th>\n",
       "      <th>Total No. of Patients</th>\n",
       "      <th>Cardiovascular</th>\n",
       "      <th>Cancer</th>\n",
       "      <th>Endocrinology and metabolic diseases</th>\n",
       "      <th>Neurological diseases</th>\n",
       "      <th>Mental health and behavioral disorders</th>\n",
       "      <th>Infectious diseases</th>\n",
       "      <th>Dermatology</th>\n",
       "      <th>Gastroenterology</th>\n",
       "      <th>Hematology and coagulation</th>\n",
       "      <th>Renal disease</th>\n",
       "      <th>Rheumatology</th>\n",
       "      <th>Urologic</th>\n",
       "    </tr>\n",
       "  </thead>\n",
       "  <tbody>\n",
       "    <tr>\n",
       "      <th>0</th>\n",
       "      <td>Argentina</td>\n",
       "      <td>The Hospital Italiano de Buenos Aires</td>\n",
       "      <td>41324</td>\n",
       "      <td>3955</td>\n",
       "      <td>4642</td>\n",
       "      <td>4611</td>\n",
       "      <td>3231</td>\n",
       "      <td>3631</td>\n",
       "      <td>1587</td>\n",
       "      <td>3207</td>\n",
       "      <td>3386</td>\n",
       "      <td>4286</td>\n",
       "      <td>3710</td>\n",
       "      <td>1202</td>\n",
       "      <td>3876</td>\n",
       "    </tr>\n",
       "    <tr>\n",
       "      <th>1</th>\n",
       "      <td>Argentina</td>\n",
       "      <td>Hospital Alemán</td>\n",
       "      <td>32542</td>\n",
       "      <td>1256</td>\n",
       "      <td>1981</td>\n",
       "      <td>2315</td>\n",
       "      <td>3531</td>\n",
       "      <td>3997</td>\n",
       "      <td>4566</td>\n",
       "      <td>2423</td>\n",
       "      <td>1024</td>\n",
       "      <td>3113</td>\n",
       "      <td>2278</td>\n",
       "      <td>3111</td>\n",
       "      <td>2947</td>\n",
       "    </tr>\n",
       "    <tr>\n",
       "      <th>2</th>\n",
       "      <td>Australia</td>\n",
       "      <td>Royal Children's Hospital</td>\n",
       "      <td>30337</td>\n",
       "      <td>2496</td>\n",
       "      <td>3527</td>\n",
       "      <td>2006</td>\n",
       "      <td>2386</td>\n",
       "      <td>2929</td>\n",
       "      <td>2540</td>\n",
       "      <td>3527</td>\n",
       "      <td>3847</td>\n",
       "      <td>1095</td>\n",
       "      <td>3140</td>\n",
       "      <td>1409</td>\n",
       "      <td>1435</td>\n",
       "    </tr>\n",
       "    <tr>\n",
       "      <th>3</th>\n",
       "      <td>Australia</td>\n",
       "      <td>Baker Heart Research Institute</td>\n",
       "      <td>33212</td>\n",
       "      <td>2855</td>\n",
       "      <td>4299</td>\n",
       "      <td>3309</td>\n",
       "      <td>1444</td>\n",
       "      <td>2085</td>\n",
       "      <td>4740</td>\n",
       "      <td>2918</td>\n",
       "      <td>1283</td>\n",
       "      <td>3031</td>\n",
       "      <td>1235</td>\n",
       "      <td>2074</td>\n",
       "      <td>3939</td>\n",
       "    </tr>\n",
       "    <tr>\n",
       "      <th>4</th>\n",
       "      <td>Australia</td>\n",
       "      <td>Department Health &amp; Human Services of Tasmania...</td>\n",
       "      <td>45093</td>\n",
       "      <td>4932</td>\n",
       "      <td>4931</td>\n",
       "      <td>3526</td>\n",
       "      <td>2737</td>\n",
       "      <td>1285</td>\n",
       "      <td>4733</td>\n",
       "      <td>4811</td>\n",
       "      <td>4631</td>\n",
       "      <td>2825</td>\n",
       "      <td>3319</td>\n",
       "      <td>4580</td>\n",
       "      <td>2783</td>\n",
       "    </tr>\n",
       "  </tbody>\n",
       "</table>\n",
       "</div>"
      ]
     },
     "execution_count": 16,
     "metadata": {},
     "output_type": "execute_result"
    }
   ],
   "execution_count": 16
  },
  {
   "cell_type": "code",
   "id": "cc462bc42352075d",
   "metadata": {
    "ExecuteTime": {
     "end_time": "2025-02-09T06:05:27.034890Z",
     "start_time": "2025-02-09T06:05:27.024547Z"
    }
   },
   "source": [
    "df1 = df.drop(columns=[\"Hospital Name\"])\n",
    "df2 = df.drop(columns=[\"Hospital Name\"])"
   ],
   "outputs": [],
   "execution_count": 92
  },
  {
   "cell_type": "code",
   "id": "7cc8039a52dd18e2",
   "metadata": {
    "ExecuteTime": {
     "end_time": "2025-02-09T05:19:45.711868Z",
     "start_time": "2025-02-09T05:19:45.705345Z"
    }
   },
   "source": [
    "encoder = LabelEncoder()"
   ],
   "outputs": [],
   "execution_count": 18
  },
  {
   "cell_type": "code",
   "id": "33894e3164d470c2",
   "metadata": {
    "ExecuteTime": {
     "end_time": "2025-02-09T05:19:46.284308Z",
     "start_time": "2025-02-09T05:19:46.279101Z"
    }
   },
   "source": [
    "df1['Country Name'] = encoder.fit_transform(df1['Country Name'])"
   ],
   "outputs": [],
   "execution_count": 19
  },
  {
   "cell_type": "code",
   "id": "6c8cb827a8b42f0d",
   "metadata": {
    "ExecuteTime": {
     "end_time": "2025-02-09T05:19:46.816Z",
     "start_time": "2025-02-09T05:19:46.805119Z"
    }
   },
   "source": [
    "# Normalization\n",
    "scaler = MinMaxScaler()\n",
    "numerical_cols = df1.columns[1:]\n",
    "df1[numerical_cols] = scaler.fit_transform(df1[numerical_cols])"
   ],
   "outputs": [],
   "execution_count": 20
  },
  {
   "cell_type": "code",
   "id": "8138532daa6f9bee",
   "metadata": {
    "ExecuteTime": {
     "end_time": "2025-02-09T05:19:47.349295Z",
     "start_time": "2025-02-09T05:19:47.337389Z"
    }
   },
   "source": [
    "df1.head(5)"
   ],
   "outputs": [
    {
     "data": {
      "text/plain": [
       "   Country Name  Total No. of Patients  Cardiovascular    Cancer  \\\n",
       "0             0               0.668721        0.725066  0.912446   \n",
       "1             0               0.284909        0.012929  0.235174   \n",
       "2             1               0.188541        0.340106  0.628659   \n",
       "3             1               0.314191        0.434828  0.825146   \n",
       "4             1               0.833443        0.982850  0.986002   \n",
       "\n",
       "   Endocrinology and metabolic diseases  Neurological diseases  \\\n",
       "0                              0.995140               0.583883   \n",
       "1                              0.338765               0.666392   \n",
       "2                              0.250429               0.351485   \n",
       "3                              0.622927               0.092409   \n",
       "4                              0.684963               0.448020   \n",
       "\n",
       "   Mental health and behavioral disorders  Infectious diseases  Dermatology  \\\n",
       "0                                0.642285             0.118889     0.535431   \n",
       "1                                0.739989             0.914774     0.328133   \n",
       "2                                0.454885             0.373497     0.620042   \n",
       "3                                0.229578             0.961261     0.459016   \n",
       "4                                0.016017             0.959391     0.959545   \n",
       "\n",
       "   Gastroenterology  Hematology and coagulation  Renal disease  Rheumatology  \\\n",
       "0          0.594214                    0.818415       0.734683      0.031096   \n",
       "1          0.000000                    0.517569       0.337677      0.525784   \n",
       "2          0.710189                    0.000000       0.576657      0.084737   \n",
       "3          0.065157                    0.496538       0.048517      0.257061   \n",
       "4          0.907421                    0.443704       0.626282      0.906452   \n",
       "\n",
       "   Urologic  \n",
       "0  0.741210  \n",
       "1  0.501034  \n",
       "2  0.110134  \n",
       "3  0.757497  \n",
       "4  0.458635  "
      ],
      "text/html": [
       "<div>\n",
       "<style scoped>\n",
       "    .dataframe tbody tr th:only-of-type {\n",
       "        vertical-align: middle;\n",
       "    }\n",
       "\n",
       "    .dataframe tbody tr th {\n",
       "        vertical-align: top;\n",
       "    }\n",
       "\n",
       "    .dataframe thead th {\n",
       "        text-align: right;\n",
       "    }\n",
       "</style>\n",
       "<table border=\"1\" class=\"dataframe\">\n",
       "  <thead>\n",
       "    <tr style=\"text-align: right;\">\n",
       "      <th></th>\n",
       "      <th>Country Name</th>\n",
       "      <th>Total No. of Patients</th>\n",
       "      <th>Cardiovascular</th>\n",
       "      <th>Cancer</th>\n",
       "      <th>Endocrinology and metabolic diseases</th>\n",
       "      <th>Neurological diseases</th>\n",
       "      <th>Mental health and behavioral disorders</th>\n",
       "      <th>Infectious diseases</th>\n",
       "      <th>Dermatology</th>\n",
       "      <th>Gastroenterology</th>\n",
       "      <th>Hematology and coagulation</th>\n",
       "      <th>Renal disease</th>\n",
       "      <th>Rheumatology</th>\n",
       "      <th>Urologic</th>\n",
       "    </tr>\n",
       "  </thead>\n",
       "  <tbody>\n",
       "    <tr>\n",
       "      <th>0</th>\n",
       "      <td>0</td>\n",
       "      <td>0.668721</td>\n",
       "      <td>0.725066</td>\n",
       "      <td>0.912446</td>\n",
       "      <td>0.995140</td>\n",
       "      <td>0.583883</td>\n",
       "      <td>0.642285</td>\n",
       "      <td>0.118889</td>\n",
       "      <td>0.535431</td>\n",
       "      <td>0.594214</td>\n",
       "      <td>0.818415</td>\n",
       "      <td>0.734683</td>\n",
       "      <td>0.031096</td>\n",
       "      <td>0.741210</td>\n",
       "    </tr>\n",
       "    <tr>\n",
       "      <th>1</th>\n",
       "      <td>0</td>\n",
       "      <td>0.284909</td>\n",
       "      <td>0.012929</td>\n",
       "      <td>0.235174</td>\n",
       "      <td>0.338765</td>\n",
       "      <td>0.666392</td>\n",
       "      <td>0.739989</td>\n",
       "      <td>0.914774</td>\n",
       "      <td>0.328133</td>\n",
       "      <td>0.000000</td>\n",
       "      <td>0.517569</td>\n",
       "      <td>0.337677</td>\n",
       "      <td>0.525784</td>\n",
       "      <td>0.501034</td>\n",
       "    </tr>\n",
       "    <tr>\n",
       "      <th>2</th>\n",
       "      <td>1</td>\n",
       "      <td>0.188541</td>\n",
       "      <td>0.340106</td>\n",
       "      <td>0.628659</td>\n",
       "      <td>0.250429</td>\n",
       "      <td>0.351485</td>\n",
       "      <td>0.454885</td>\n",
       "      <td>0.373497</td>\n",
       "      <td>0.620042</td>\n",
       "      <td>0.710189</td>\n",
       "      <td>0.000000</td>\n",
       "      <td>0.576657</td>\n",
       "      <td>0.084737</td>\n",
       "      <td>0.110134</td>\n",
       "    </tr>\n",
       "    <tr>\n",
       "      <th>3</th>\n",
       "      <td>1</td>\n",
       "      <td>0.314191</td>\n",
       "      <td>0.434828</td>\n",
       "      <td>0.825146</td>\n",
       "      <td>0.622927</td>\n",
       "      <td>0.092409</td>\n",
       "      <td>0.229578</td>\n",
       "      <td>0.961261</td>\n",
       "      <td>0.459016</td>\n",
       "      <td>0.065157</td>\n",
       "      <td>0.496538</td>\n",
       "      <td>0.048517</td>\n",
       "      <td>0.257061</td>\n",
       "      <td>0.757497</td>\n",
       "    </tr>\n",
       "    <tr>\n",
       "      <th>4</th>\n",
       "      <td>1</td>\n",
       "      <td>0.833443</td>\n",
       "      <td>0.982850</td>\n",
       "      <td>0.986002</td>\n",
       "      <td>0.684963</td>\n",
       "      <td>0.448020</td>\n",
       "      <td>0.016017</td>\n",
       "      <td>0.959391</td>\n",
       "      <td>0.959545</td>\n",
       "      <td>0.907421</td>\n",
       "      <td>0.443704</td>\n",
       "      <td>0.626282</td>\n",
       "      <td>0.906452</td>\n",
       "      <td>0.458635</td>\n",
       "    </tr>\n",
       "  </tbody>\n",
       "</table>\n",
       "</div>"
      ]
     },
     "execution_count": 21,
     "metadata": {},
     "output_type": "execute_result"
    }
   ],
   "execution_count": 21
  },
  {
   "cell_type": "code",
   "id": "9b1400c0f532dd26",
   "metadata": {
    "ExecuteTime": {
     "end_time": "2025-02-09T05:19:48.052779Z",
     "start_time": "2025-02-09T05:19:48.046289Z"
    }
   },
   "source": [
    "categorical_columns = ['Country Name']\n",
    "categorical_columns"
   ],
   "outputs": [
    {
     "data": {
      "text/plain": [
       "['Country Name']"
      ]
     },
     "execution_count": 22,
     "metadata": {},
     "output_type": "execute_result"
    }
   ],
   "execution_count": 22
  },
  {
   "cell_type": "code",
   "id": "be8a135444af22e9",
   "metadata": {
    "ExecuteTime": {
     "end_time": "2025-02-09T05:45:58.975740Z",
     "start_time": "2025-02-09T05:45:58.969058Z"
    }
   },
   "source": [
    "# Initialize Model\n",
    "ctgan = CTGAN(epochs=1000, batch_size=12, pac=1, generator_lr=1e-4, discriminator_lr=1e-4, discriminator_steps=3)"
   ],
   "outputs": [],
   "execution_count": 68
  },
  {
   "cell_type": "code",
   "id": "7e24a4a8684e4022",
   "metadata": {
    "ExecuteTime": {
     "end_time": "2025-02-09T05:50:08.658895Z",
     "start_time": "2025-02-09T05:45:59.920313Z"
    }
   },
   "source": [
    "# Train the CTGAN model\n",
    "ctgan.fit(df1, categorical_columns)"
   ],
   "outputs": [],
   "execution_count": 69
  },
  {
   "cell_type": "code",
   "id": "d83240c55c90f0a8",
   "metadata": {
    "ExecuteTime": {
     "end_time": "2025-02-09T05:50:15.000187Z",
     "start_time": "2025-02-09T05:50:14.685134Z"
    }
   },
   "source": [
    "# Generate synthetic data\n",
    "synthetic_data = ctgan.sample(200)"
   ],
   "outputs": [],
   "execution_count": 70
  },
  {
   "cell_type": "code",
   "metadata": {
    "ExecuteTime": {
     "end_time": "2025-02-09T05:50:16.168294Z",
     "start_time": "2025-02-09T05:50:16.152486Z"
    }
   },
   "source": [
    "synthetic_data.to_csv(\"synthetic_hospital_data.csv\", index=False)\n",
    "print(synthetic_data.head())"
   ],
   "id": "866857882d63f62f",
   "outputs": [
    {
     "name": "stdout",
     "output_type": "stream",
     "text": [
      "   Country Name  Total No. of Patients  Cardiovascular    Cancer  \\\n",
      "0            11              -0.019284        0.269432 -0.007986   \n",
      "1             2               0.473216        0.542322  0.244688   \n",
      "2            10               0.842837        0.683745  0.649671   \n",
      "3            14               0.708590        0.673086  0.753990   \n",
      "4             6              -0.067204       -0.125771 -0.022520   \n",
      "\n",
      "   Endocrinology and metabolic diseases  Neurological diseases  \\\n",
      "0                              0.053290               0.548132   \n",
      "1                              0.360520               0.192131   \n",
      "2                              0.902380               0.179518   \n",
      "3                              1.017587               0.510644   \n",
      "4                              0.138922               0.145740   \n",
      "\n",
      "   Mental health and behavioral disorders  Infectious diseases  Dermatology  \\\n",
      "0                                0.236452             0.483050     0.025951   \n",
      "1                                0.567584             0.715798     0.132220   \n",
      "2                                0.181534            -0.065338     0.590610   \n",
      "3                                0.248968             0.293578     0.305673   \n",
      "4                                0.189995             0.569491     0.133593   \n",
      "\n",
      "   Gastroenterology  Hematology and coagulation  Renal disease  Rheumatology  \\\n",
      "0          0.399893                    1.077583       0.364788      0.714654   \n",
      "1          0.442602                    0.275322       0.328595      0.169657   \n",
      "2          0.741738                    0.914949       0.645192      0.375929   \n",
      "3          1.104034                    0.191504       0.040758      0.371262   \n",
      "4          0.544359                    0.101927       0.566805      0.679797   \n",
      "\n",
      "   Urologic  \n",
      "0  0.020455  \n",
      "1  0.314728  \n",
      "2 -0.079568  \n",
      "3  0.741417  \n",
      "4  0.254965  \n"
     ]
    }
   ],
   "execution_count": 71
  },
  {
   "metadata": {},
   "cell_type": "markdown",
   "source": "## Decoding the Synthetic Data",
   "id": "35e873925db9d007"
  },
  {
   "metadata": {
    "ExecuteTime": {
     "end_time": "2025-02-09T06:26:30.362940Z",
     "start_time": "2025-02-09T06:26:30.337034Z"
    }
   },
   "cell_type": "code",
   "source": [
    "# Load the encoded synthetic data\n",
    "encoded_data = pd.read_csv(\"synthetic_hospital_data.csv\")\n",
    "\n",
    "# Load the original dataset to retrieve encoder & scaler info\n",
    "original_data = df2\n",
    "\n",
    "# 1️⃣ Reverse Label Encoding for \"Country Name\"\n",
    "encoder = LabelEncoder()\n",
    "encoder.fit(original_data[\"Country Name\"])  # Fit on original data\n",
    "encoded_data[\"Country Name\"] = encoder.inverse_transform(encoded_data[\"Country Name\"].astype(int))\n",
    "\n",
    "# 2️⃣ Reverse Min-Max Scaling\n",
    "scaler = MinMaxScaler()\n",
    "numerical_cols = encoded_data.columns.difference([\"Country Name\"])  # Exclude categorical\n",
    "scaler.fit(original_data[numerical_cols])  # Fit scaler on original numerical data\n",
    "encoded_data[numerical_cols] = scaler.inverse_transform(encoded_data[numerical_cols])\n",
    "\n",
    "# Save the decoded synthetic dataset\n",
    "encoded_data.to_csv(\"decoded_synthetic_data.csv\", index=False)\n",
    "print(\"✅ Decoding successful! Decoded synthetic data saved.\")\n",
    "\n",
    "# Display first few rows\n",
    "print(encoded_data.head())"
   ],
   "id": "9c16d4ea461e7f39",
   "outputs": [
    {
     "name": "stdout",
     "output_type": "stream",
     "text": [
      "✅ Decoding successful! Decoded synthetic data saved.\n",
      "   Country Name  Total No. of Patients  Cardiovascular       Cancer  \\\n",
      "0        Mexico           25581.756428     2228.146506  1025.621410   \n",
      "1    Bangladesh           36850.661533     3262.398532  2018.379894   \n",
      "2         Japan           45307.963945     3798.394458  3609.557658   \n",
      "3  South Africa           42236.257227     3757.995414  4019.425331   \n",
      "4       Germany           24485.301636      730.328449   968.517095   \n",
      "\n",
      "   Endocrinology and metabolic diseases  Neurological diseases  \\\n",
      "0                           1316.410097            3101.008773   \n",
      "1                           2391.098744            1806.588229   \n",
      "2                           4286.525908            1760.727797   \n",
      "3                           4689.518753            2964.702209   \n",
      "4                           1615.949014            1637.909327   \n",
      "\n",
      "   Mental health and behavioral disorders  Infectious diseases  Dermatology  \\\n",
      "0                             2110.747951          2950.057347  1280.145345   \n",
      "1                             3351.170908          3821.232126  1682.057624   \n",
      "2                             1905.025243           897.438617  3415.685741   \n",
      "3                             2157.632889          2240.862731  2338.054746   \n",
      "4                             1936.722757          3273.604137  1687.249968   \n",
      "\n",
      "   Gastroenterology  Hematology and coagulation  Renal disease  Rheumatology  \\\n",
      "0       2613.574617                 5296.495788    2375.791984   3839.849656   \n",
      "1       2783.341272                 2168.479047    2245.241635   1736.707620   \n",
      "2       3972.409876                 4662.384758    3387.208903   2532.711658   \n",
      "3       5412.536569                 1841.674946    1207.014860   2514.698898   \n",
      "4       3187.828136                 1492.413372    3104.464926   3705.335999   \n",
      "\n",
      "      Urologic  \n",
      "0  1088.119886  \n",
      "1  2226.367634  \n",
      "2   701.232617  \n",
      "3  3876.799319  \n",
      "4  1995.205162  \n"
     ]
    }
   ],
   "execution_count": 95
  },
  {
   "metadata": {},
   "cell_type": "code",
   "outputs": [],
   "execution_count": null,
   "source": "",
   "id": "9d3379c6dda0fd6e"
  }
 ],
 "metadata": {
  "kernelspec": {
   "display_name": "base",
   "language": "python",
   "name": "python3"
  },
  "language_info": {
   "codemirror_mode": {
    "name": "ipython",
    "version": 3
   },
   "file_extension": ".py",
   "mimetype": "text/x-python",
   "name": "python",
   "nbconvert_exporter": "python",
   "pygments_lexer": "ipython3",
   "version": "3.12.8"
  }
 },
 "nbformat": 4,
 "nbformat_minor": 2
}
